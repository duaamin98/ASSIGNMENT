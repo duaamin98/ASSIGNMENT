{
 "cells": [
  {
   "cell_type": "code",
   "execution_count": 1,
   "metadata": {},
   "outputs": [
    {
     "name": "stdout",
     "output_type": "stream",
     "text": [
      "The concept of OOP is focuses on creating reusable code. \n",
      "This concept is also known as DRY (Don't Repeat Yourself). \n",
      "there are four Pillars of OOP which are : \n",
      "Inheritance. Encapsulation , Polymorphism and Abstraction\n"
     ]
    }
   ],
   "source": [
    "print('''The concept of OOP is focuses on creating reusable code. \n",
    "This concept is also known as DRY (Don't Repeat Yourself). \n",
    "there are four Pillars of OOP which are : \n",
    "Inheritance. Encapsulation , Polymorphism and Abstraction''')"
   ]
  },
  {
   "cell_type": "code",
   "execution_count": 2,
   "metadata": {},
   "outputs": [
    {
     "name": "stdout",
     "output_type": "stream",
     "text": [
      "\n",
      "    OOP based code ko maintain karna asan hota hai \n",
      "    OOP based code re-useable hota hai \n",
      "    OOP ka code module base hota hai like tree structure \n"
     ]
    }
   ],
   "source": [
    "print('''\n",
    "    OOP based code ko maintain karna asan hota hai \n",
    "    OOP based code re-useable hota hai \n",
    "    OOP ka code module base hota hai like tree structure ''')"
   ]
  },
  {
   "cell_type": "code",
   "execution_count": 3,
   "metadata": {},
   "outputs": [
    {
     "name": "stdout",
     "output_type": "stream",
     "text": [
      "Funtion\n",
      "if we have to use a task again and again we write that task in a function and call it when we need it.\n",
      "    we can pass arguments when calling a funtion if it takes parameters .\n",
      "    in function you have to pass class attributes as parameters else you can use them in function. \n",
      "Method\n",
      "\n",
      "Methods are same as functions there are very few differece in methods and functions which are:\n",
      "    1) methods are written in the scope of class\n",
      "    2) methods take \"self\" as first parameter , then you know that its a method\n",
      "    3) self in method takes all the attributes which are defined in class and u can use the attributes \n",
      "    in method using self keyword .\n",
      "    \n"
     ]
    }
   ],
   "source": [
    "print('Funtion')\n",
    "print('''if we have to use a task again and again we write that task in a function and call it when we need it.\n",
    "    we can pass arguments when calling a funtion if it takes parameters .\n",
    "    in function you have to pass class attributes as parameters else you can use them in function. ''')\n",
    "print('Method')\n",
    "print('''\n",
    "Methods are same as functions there are very few differece in methods and functions which are:\n",
    "    1) methods are written in the scope of class\n",
    "    2) methods take \"self\" as first parameter , then you know that its a method\n",
    "    3) self in method takes all the attributes which are defined in class and u can use the attributes \n",
    "    in method using self keyword .\n",
    "    ''')"
   ]
  },
  {
   "cell_type": "code",
   "execution_count": 4,
   "metadata": {},
   "outputs": [
    {
     "name": "stdout",
     "output_type": "stream",
     "text": [
      "\n",
      "1. Class\n",
      "2. Object\n",
      "3. Attribute\n",
      "4. Behavior\n",
      "1.Class\n",
      "Class is like defining data structure using attributes which are basically variables. we define methods and functions in class\n",
      "2.Object\n",
      "class is a blueprint of this object , in this object we have all those things which i defined in class lines \n",
      "3.Attribute\n",
      "Attribute are variables , means address to memory location of the value which these variables have\n",
      "4.Behavior\n",
      "The behavior of an object is defined by its methods, which are the functions and subroutines defined within the object class. Without class methods, a class would simply be a structure.\n"
     ]
    }
   ],
   "source": [
    "print('''\n",
    "1. Class\n",
    "2. Object\n",
    "3. Attribute\n",
    "4. Behavior''')\n",
    "\n",
    "print('1.Class')\n",
    "print('''Class is like defining data structure using attributes which are basically variables. we define methods and functions in class''')\n",
    "print('2.Object')\n",
    "print('''class is a blueprint of this object , in this object we have all those things which i defined in class lines ''')\n",
    "print('3.Attribute')\n",
    "print('''Attribute are variables , means address to memory location of the value which these variables have''')\n",
    "print('4.Behavior')\n",
    "print('''The behavior of an object is defined by its methods, which are the functions and subroutines defined within the object class. Without class methods, a class would simply be a structure.''')\n"
   ]
  },
  {
   "cell_type": "code",
   "execution_count": 5,
   "metadata": {},
   "outputs": [
    {
     "name": "stdout",
     "output_type": "stream",
     "text": [
      "this car name is :  Corolla\n",
      "Suzuki\n",
      "Xayz-212\n"
     ]
    }
   ],
   "source": [
    "class Car:\n",
    "    def __init__(self,model,color,name,company,number):\n",
    "        self.model=model\n",
    "        self.color=color\n",
    "        self.name=name\n",
    "        self.company=company\n",
    "        self.number=number\n",
    "        \n",
    "    def print_name(self):\n",
    "        print(\"this car name is : \",self.name)\n",
    "            \n",
    "    def print_UPdatecompany(self):\n",
    "        self.company=\"Suzuki\"\n",
    "        print(self.company)\n",
    "            \n",
    "    def print_number(self):\n",
    "        print(self.number)\n",
    "            \n",
    "car1=Car('2019','Black','Corolla','Toyota','Abx-2132')\n",
    "car2=Car('2018','white','VIGO','Toyota','Xayz-212')\n",
    "car3=Car('2017','Red','land Cruiser','Toyota','cda-132')\n",
    "car4=Car('2016','Blue','Civic','Honda','zzw-32')\n",
    "car5=Car('2015','mate Black','City','Honda','Ax-22')\n",
    "\n",
    "\n",
    "\n",
    "car1.print_name()\n",
    "car2.print_UPdatecompany()\n",
    "car2.print_number()"
   ]
  },
  {
   "cell_type": "code",
   "execution_count": null,
   "metadata": {},
   "outputs": [],
   "source": []
  }
 ],
 "metadata": {
  "kernelspec": {
   "display_name": "Python 3",
   "language": "python",
   "name": "python3"
  },
  "language_info": {
   "codemirror_mode": {
    "name": "ipython",
    "version": 3
   },
   "file_extension": ".py",
   "mimetype": "text/x-python",
   "name": "python",
   "nbconvert_exporter": "python",
   "pygments_lexer": "ipython3",
   "version": "3.7.4"
  }
 },
 "nbformat": 4,
 "nbformat_minor": 2
}
