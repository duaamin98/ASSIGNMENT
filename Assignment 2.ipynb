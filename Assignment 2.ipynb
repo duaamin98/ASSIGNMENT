{
 "cells": [
  {
   "cell_type": "code",
   "execution_count": 5,
   "metadata": {},
   "outputs": [
    {
     "name": "stdout",
     "output_type": "stream",
     "text": [
      "Enter mark of math suject:55\n",
      "Enter mark of english subject75\n",
      "Enter mark of urdu subject85\n",
      "Enter mark of science subject65\n",
      "Enter mark of chemistry subject45\n",
      "Grade:C\n"
     ]
    }
   ],
   "source": [
    "math=int(input(\"Enter mark of math suject:\"))\n",
    "english=int(input(\"Enter mark of english subject\"))\n",
    "urdu=int(input(\"Enter mark of urdu subject\"))\n",
    "science=int(input(\"Enter mark of science subject\"))\n",
    "chemistry=int(input(\"Enter mark of chemistry subject\"))\n",
    "total=(math+english+urdu+science+chemistry)/5\n",
    "if(total>=90):\n",
    "    print(\"Grade:A+\")\n",
    "elif(total>=80):\n",
    "    print(\"Grade:A\")\n",
    "elif(total>=70):\n",
    "    print(\"Grade:B\")\n",
    "elif(total>=60):\n",
    "    print(\"Grade:C\")\n",
    "else:\n",
    "    Print(\"Grade:F\")"
   ]
  },
  {
   "cell_type": "code",
   "execution_count": 1,
   "metadata": {},
   "outputs": [
    {
     "name": "stdout",
     "output_type": "stream",
     "text": [
      "Enter a number5\n",
      "This is an odd number\n"
     ]
    }
   ],
   "source": [
    "num=int(input(\"Enter a number\"))\n",
    "mod = num%2\n",
    "if mod==0:\n",
    "    print(\"This is an even number\")\n",
    "else:\n",
    "    print(\"This is an odd number\")"
   ]
  },
  {
   "cell_type": "code",
   "execution_count": 2,
   "metadata": {},
   "outputs": [
    {
     "name": "stdout",
     "output_type": "stream",
     "text": [
      "5\n"
     ]
    }
   ],
   "source": [
    "L=[1,2,3,4,5]\n",
    "length_of_list = len(L)\n",
    "print(length_of_list)"
   ]
  },
  {
   "cell_type": "code",
   "execution_count": 3,
   "metadata": {},
   "outputs": [
    {
     "name": "stdout",
     "output_type": "stream",
     "text": [
      "20\n"
     ]
    }
   ],
   "source": [
    "def sum(numbers):\n",
    "    total = 0\n",
    "    for x in numbers:\n",
    "        total += x\n",
    "    return total\n",
    "print(sum((8, 2, 3, 0, 7)))"
   ]
  },
  {
   "cell_type": "code",
   "execution_count": 4,
   "metadata": {},
   "outputs": [
    {
     "name": "stdout",
     "output_type": "stream",
     "text": [
      "How many numbers: 5\n",
      "Enter number 14\n",
      "Enter number 16\n",
      "Enter number 5\n",
      "Enter number 65\n",
      "Enter number 55\n",
      "Maximum element in the list is : 65 \n",
      "Minimum element in the list is : 5\n"
     ]
    }
   ],
   "source": [
    "lst = []\n",
    "num = int(input('How many numbers: '))\n",
    "for n in range(num):\n",
    "    numbers = int(input('Enter number '))\n",
    "    lst.append(numbers)\n",
    "print(\"Maximum element in the list is :\", max(lst), \"\\nMinimum element in the list is :\", min(lst))"
   ]
  },
  {
   "cell_type": "code",
   "execution_count": 5,
   "metadata": {},
   "outputs": [
    {
     "name": "stdout",
     "output_type": "stream",
     "text": [
      "1\n",
      "1\n",
      "2\n",
      "3\n"
     ]
    }
   ],
   "source": [
    "a=([1, 1, 2, 3, 5, 8, 13, 21, 34, 55, 89])\n",
    "for int in a:\n",
    "    if int<5:\n",
    "        print(int)"
   ]
  },
  {
   "cell_type": "code",
   "execution_count": null,
   "metadata": {},
   "outputs": [],
   "source": []
  }
 ],
 "metadata": {
  "kernelspec": {
   "display_name": "Python 3",
   "language": "python",
   "name": "python3"
  },
  "language_info": {
   "codemirror_mode": {
    "name": "ipython",
    "version": 3
   },
   "file_extension": ".py",
   "mimetype": "text/x-python",
   "name": "python",
   "nbconvert_exporter": "python",
   "pygments_lexer": "ipython3",
   "version": "3.7.4"
  }
 },
 "nbformat": 4,
 "nbformat_minor": 2
}
